{
  "nbformat": 4,
  "nbformat_minor": 0,
  "metadata": {
    "colab": {
      "provenance": []
    },
    "kernelspec": {
      "name": "python3",
      "display_name": "Python 3"
    },
    "language_info": {
      "name": "python"
    }
  },
  "cells": [
    {
      "cell_type": "markdown",
      "source": [
        "# 1. Базовые типы переменных"
      ],
      "metadata": {
        "id": "lzvAd2E6PfHk"
      }
    },
    {
      "cell_type": "code",
      "execution_count": 25,
      "metadata": {
        "id": "Z55ROOsAO5PP"
      },
      "outputs": [],
      "source": [
        "int_variable = 1 # int\n",
        "assert isinstance(int_variable, int)\n",
        "\n",
        "float_variable = 1.0 # float\n",
        "assert isinstance(float_variable, float)\n",
        "\n",
        "string_variable = \"abc\" # string\n",
        "assert isinstance(string_variable, str)\n",
        "\n",
        "bool_variable = True # bool\n",
        "assert isinstance(bool_variable, bool)"
      ]
    },
    {
      "cell_type": "code",
      "source": [
        "list_variable = [1, 2, 3, \"Ni\",\"Zh\",\"Ev\"] # list\n",
        "assert isinstance(list_variable, list)\n",
        "\n",
        "tuple_variable = (1, 2, 3, \"Ni\",\"Z\",\"Ev\") # tuple\n",
        "assert isinstance(tuple_variable, tuple)\n",
        "\n",
        "set_variable = {1, 2, 3, \"Ni\",\"Zh\",\"Ev\"} # set\n",
        "assert isinstance(set_variable, set)\n",
        "\n",
        "dict_variable = {'name': 'Никита',     'age': 20,     'fav_foods': ['пицца', 'роллы', 'рис']} # dict\n",
        "assert isinstance(dict_variable, dict)"
      ],
      "metadata": {
        "id": "R4S4CdFEP67K"
      },
      "execution_count": 26,
      "outputs": []
    },
    {
      "cell_type": "markdown",
      "source": [
        "# 2.1 Различные функции"
      ],
      "metadata": {
        "id": "EIPAZiIDRN1i"
      }
    },
    {
      "cell_type": "code",
      "source": [
        "def difference_of_two_numbers(first, second):\n",
        "    return (first-second)\n",
        "    # TODO: напиши меня\n",
        "    pass\n",
        "\n",
        "\n",
        "assert difference_of_two_numbers(2, 1) == 1\n",
        "assert difference_of_two_numbers(4, 1) == 3\n",
        "assert difference_of_two_numbers(10, 0) == 10\n",
        "assert difference_of_two_numbers(-5, -6) == 1"
      ],
      "metadata": {
        "id": "P9dB6_TARRQ-"
      },
      "execution_count": 27,
      "outputs": []
    },
    {
      "cell_type": "code",
      "source": [
        "def condition_function(input_number):\n",
        "    if input_number <= 0:\n",
        "      input_number = input_number * 2\n",
        "    elif input_number > 0 and input_number <= 10:\n",
        "      input_number = input_number * 3\n",
        "    else:\n",
        "      input_number = input_number / 10\n",
        "\n",
        "    return input_number\n",
        "\n",
        "\n",
        "assert condition_function(0) == 0\n",
        "assert condition_function(-1) == -2\n",
        "assert condition_function(1) == 3\n",
        "assert condition_function(10) == 30\n",
        "assert condition_function(11) == 1.1\n",
        "assert condition_function(20) == 2"
      ],
      "metadata": {
        "id": "0WpvT8dcR0zL"
      },
      "execution_count": 28,
      "outputs": []
    },
    {
      "cell_type": "code",
      "source": [
        "def calculator(number_1, operation, number_2):\n",
        "  match operation:\n",
        "    case \"+\":\n",
        "      return number_1 + number_2\n",
        "    case \"-\":\n",
        "      return number_1 - number_2\n",
        "    case \"*\":\n",
        "      return number_1 * number_2\n",
        "    case \"/\":\n",
        "      return number_1 / number_2\n",
        "    # TODO: напиши меня\n",
        "\n",
        "\n",
        "assert calculator(1, \"+\", 2) == 3\n",
        "assert calculator(3, \"-\", 1) == 2\n",
        "assert calculator(4, \"*\", 3) == 12\n",
        "assert calculator(2, \"/\", 2) == 1"
      ],
      "metadata": {
        "id": "flnwR1S-SvS2"
      },
      "execution_count": 29,
      "outputs": []
    },
    {
      "cell_type": "code",
      "source": [
        "def number_of_unique_elements(input_list):\n",
        "    unique_elements = set(input_list)\n",
        "    return len(unique_elements)\n",
        "\n",
        "\n",
        "assert number_of_unique_elements([1, 2, 3]) == 3\n",
        "assert number_of_unique_elements([1] * 93) == 1\n",
        "assert number_of_unique_elements(list(range(1000))) == 1000"
      ],
      "metadata": {
        "id": "mHQt6cbgU2q-"
      },
      "execution_count": 30,
      "outputs": []
    },
    {
      "cell_type": "code",
      "source": [
        "def counter(input_list):\n",
        "    result = {}\n",
        "    for item in input_list:\n",
        "        if item in result:\n",
        "            result[item] += 1\n",
        "        else:\n",
        "            result[item] = 1\n",
        "    return result\n",
        "\n",
        "\n",
        "assert counter([1, 1, 1, 2, 3]) == {1: 3, 2: 1, 3: 1}\n",
        "assert counter([1] * 1000) == {1: 1000}\n",
        "assert counter([1, 3, 5] * 100) == {1: 100, 3: 100, 5: 100}"
      ],
      "metadata": {
        "id": "bNiwTU48VKwa"
      },
      "execution_count": 31,
      "outputs": []
    },
    {
      "cell_type": "code",
      "source": [
        "def multiply_nums(input_string):\n",
        "    num_strings = input_string.split(', ')\n",
        "\n",
        "    # Преобразуем строки в числа\n",
        "    nums = [int(num) for num in num_strings]\n",
        "\n",
        "    # Перемножаем все числа\n",
        "    result = 1\n",
        "    for num in nums:\n",
        "        result *= num\n",
        "\n",
        "    return result\n",
        "\n",
        "\n",
        "assert multiply_nums(\"2, 3\") == 6\n",
        "assert multiply_nums(\"1, 1, 1, 1, 1, 1, 1\") == 1\n",
        "assert multiply_nums(\"345, 4576, 794, 325, 0\") == 0"
      ],
      "metadata": {
        "id": "y6ka3UbxVZxH"
      },
      "execution_count": 32,
      "outputs": []
    },
    {
      "cell_type": "markdown",
      "source": [
        "Реализуйте следующую функцию:\n",
        "$$\n",
        "y = sin(x)\\cdot cos(x)\n",
        "$$\n",
        "P.S. используйте библиотеку `math`"
      ],
      "metadata": {
        "id": "2xBoBxEZcR4x"
      }
    },
    {
      "cell_type": "code",
      "source": [
        "import math\n",
        "def custom_function(x):\n",
        "    # Вычисляем sin(x) и cos(x)\n",
        "    sin_x = math.sin(x)\n",
        "    cos_x = math.cos(x)\n",
        "\n",
        "    # Вычисляем произведение sin(x) и cos(x)\n",
        "    y = sin_x * cos_x\n",
        "\n",
        "    return y\n",
        "\n",
        "assert round(custom_function(1), 3) == 0.455\n",
        "assert round(custom_function(1.5), 3) == 0.071\n",
        "assert round(custom_function(2), 3) == -0.378\n",
        "assert custom_function(0) == 0"
      ],
      "metadata": {
        "id": "NxZdbqFIVm_4"
      },
      "execution_count": 33,
      "outputs": []
    },
    {
      "cell_type": "markdown",
      "source": [
        "Реализуйте следующую функцию:\n",
        "$$\n",
        "y = \\prod\\limits_{n = 1}^n \\frac{(n+2)^x + ln(x)}{x^2 + 4n}\n",
        "$$\n",
        "P.S. используйте библиотеку `math`"
      ],
      "metadata": {
        "id": "L4vn_v0gbN81"
      }
    },
    {
      "cell_type": "code",
      "source": [
        "from math import log\n",
        "def custom_function_1(x, n):\n",
        "  solution = 1;\n",
        "  for i in range (1, n+1):\n",
        "    solution *= (((i + 2)**x) + log(x))/((x**2) + 4*i);\n",
        "  return solution;\n",
        "\n",
        "\n",
        "assert round(custom_function_1(2, 3), 3) == 2.707\n",
        "assert round(custom_function_1(3, 2), 3) == 8.277\n",
        "assert round(custom_function_1(3, 3), 3) == 49.7"
      ],
      "metadata": {
        "id": "JgD1cJqOWJuR"
      },
      "execution_count": 34,
      "outputs": []
    },
    {
      "cell_type": "markdown",
      "source": [
        "# 2.2 Задачки на написание функций"
      ],
      "metadata": {
        "id": "SJ896HVMWlo4"
      }
    },
    {
      "cell_type": "markdown",
      "metadata": {
        "id": "b1b313b9"
      },
      "source": [
        "1. Дано число n. С начала суток прошло n минут. Определите, сколько часов и минут будут показывать электронные часы в этот момент. Программа должна вывести два числа: количество часов (от 0 до 23) и количество минут (от 0 до 59). Учтите, что число n может быть больше, чем количество минут в сутках."
      ]
    },
    {
      "cell_type": "code",
      "source": [
        "def time_converter(n):\n",
        "    hours = (n // 60) % 24\n",
        "\n",
        "    minutes = n % 60\n",
        "\n",
        "    result = f\"{hours} {minutes}\"\n",
        "\n",
        "    return result\n",
        "\n",
        "assert time_converter(2782) == '22 22'\n",
        "assert time_converter(4733) == '6 53'\n",
        "assert time_converter(1766) == '5 26'\n",
        "assert time_converter(3865) == '16 25'\n",
        "assert time_converter(4628) == '5 8'\n",
        "assert time_converter(4353) == '0 33'\n",
        "assert time_converter(268) == '4 28'\n",
        "assert time_converter(4373) == '0 53'\n",
        "assert time_converter(2722) == '21 22'\n",
        "assert time_converter(1531) == '1 31'"
      ],
      "metadata": {
        "id": "mXOoh6bmWo8j"
      },
      "execution_count": 35,
      "outputs": []
    },
    {
      "cell_type": "markdown",
      "metadata": {
        "id": "824cbdcc"
      },
      "source": [
        "---\n",
        "2. Написать функцию, которая выводит минимум из трех чисел. Использовать `min` нельзя. Только `if`."
      ]
    },
    {
      "cell_type": "code",
      "source": [
        "def min_of_three_values(a, b, c):\n",
        "\n",
        "    if a <= b and a <= c:\n",
        "        return a\n",
        "    elif b <= a and b <= c:\n",
        "        return b\n",
        "    else:\n",
        "        return c\n",
        "\n",
        "# Тесты\n",
        "assert min_of_three_values(1, 2, 3) == 1\n",
        "assert min_of_three_values(1, 1, 9) == 1\n",
        "assert min_of_three_values(18, 7, 11) == 7\n",
        "assert min_of_three_values(2, 10, 10) == 2\n",
        "assert min_of_three_values(17, 14, 17) == 14\n",
        "assert min_of_three_values(9, 2, 10) == 2\n",
        "assert min_of_three_values(7, 4, 7) == 4\n",
        "assert min_of_three_values(0, 8, 3) == 0\n",
        "assert min_of_three_values(8, 10, 6) == 6\n",
        "assert min_of_three_values(1, 4, 8) == 1"
      ],
      "metadata": {
        "id": "g2R_EjGqXOem"
      },
      "execution_count": 36,
      "outputs": []
    },
    {
      "cell_type": "markdown",
      "metadata": {
        "id": "414dc710"
      },
      "source": [
        "---\n",
        "3. Удаление символа из строки. Необходимо использовать встроенный метод `.replace()`"
      ]
    },
    {
      "cell_type": "code",
      "source": [
        "# Функция remove_symbol принимает два аргумента -- строку и символ, которые необходимо удалить\n",
        "def remove_symbol(string, substring):\n",
        "  return string.replace(substring, '');\n",
        "\n",
        "assert remove_symbol('aaaaaaaa', 'a') == ''\n",
        "assert remove_symbol('abababa', 'b') == 'aaaa'\n",
        "assert remove_symbol('12341234', '3') == '124124'"
      ],
      "metadata": {
        "id": "jqS2_MEdbW65"
      },
      "execution_count": 37,
      "outputs": []
    },
    {
      "cell_type": "markdown",
      "metadata": {
        "id": "b6881076"
      },
      "source": [
        "---\n",
        "4. Удаление каждого 3 символа из строки"
      ]
    },
    {
      "cell_type": "code",
      "source": [
        "# Функция remove_each_third_sym принимает один агрумент -- строку.\n",
        "# важно -- мы считаем человеческие индексы (начиная с 1, а не 0)\n",
        "# важно -- оставляем первый аргумент\n",
        "# Необходимо вернуть новую строку\n",
        "def remove_each_third_sym(string):\n",
        "  resultString = \"\";\n",
        "  for i in range(len(string)):\n",
        "    if ((i+1)%3 != 0):\n",
        "      resultString += string[i];\n",
        "  return resultString;\n",
        "\n",
        "assert remove_each_third_sym('abcdef') == 'abde'\n",
        "assert remove_each_third_sym('sdfasdfasdfsfa') == 'sdasfadffa'\n",
        "assert remove_each_third_sym('123456789') == '124578'\n",
        "assert remove_each_third_sym('987654321') == '986532'"
      ],
      "metadata": {
        "id": "Jal5p11Oba3h"
      },
      "execution_count": 38,
      "outputs": []
    },
    {
      "cell_type": "markdown",
      "metadata": {
        "id": "7c72f3ac"
      },
      "source": [
        "---\n",
        "5. Вывести максимальный элемент и его индекс в листе"
      ]
    },
    {
      "cell_type": "code",
      "source": [
        "# Функция find_max принимает на вход лист\n",
        "# на выходе два числа -- непосредственно максимальное значение и его индекс\n",
        "def find_max(numbers):\n",
        "  maxNum = 0\n",
        "  maxIndex = 0\n",
        "  for i in range(len(numbers)):\n",
        "    if(numbers[i] > maxNum):\n",
        "      maxNum = numbers[i]\n",
        "      maxIndex = i\n",
        "  return maxNum, maxIndex\n",
        "\n",
        "assert find_max([1, 2, 3, 4, 5]) == (5, 4)\n",
        "assert find_max([5, 4, 3, 2, 1]) == (5, 0)\n",
        "assert find_max([96, 82, 72, 48, 93, 88, 79]) == (96, 0)\n",
        "assert find_max([49, 75, 65, 65, 65, 18]) == (75, 1)\n",
        "assert find_max([69, 16, 64, 54, 36, 70, 89, 29]) == (89, 6)\n",
        "assert find_max([17, 80, 27, 36, 21, 85, 63, 27]) == (85, 5)\n",
        "assert find_max([76, 27, 73, 65, 52]) == (76, 0)\n",
        "assert find_max([33, 26, 69, 40, 93]) == (93, 4)\n",
        "assert find_max([87, 5, 95, 52, 21, 76, 22]) == (95, 2)\n",
        "assert find_max([75, 18, 89, 99, 70]) == (99, 3)"
      ],
      "metadata": {
        "id": "Zs3iL2qnboaM"
      },
      "execution_count": 39,
      "outputs": []
    },
    {
      "cell_type": "markdown",
      "metadata": {
        "id": "a8cccf57"
      },
      "source": [
        "---\n",
        "6. Вставить элемент в конец листа. Использовать метод `append` можно и нужно"
      ]
    },
    {
      "cell_type": "code",
      "source": [
        "# функция append_to_list принимает два значения -- лист и значение, которое необходимо вставить в конец листа\n",
        "# функция возвращает обновленный лист\n",
        "def append_to_list(arr, value):\n",
        "  arr.append(value)\n",
        "  return arr\n",
        "\n",
        "assert append_to_list([1, 2], 3) == [1, 2, 3]\n",
        "assert append_to_list([1, 2], None) == [1, 2, None]\n",
        "assert append_to_list([1, 's'], True) == [1, 's', True]"
      ],
      "metadata": {
        "id": "ESt0YGJDbqro"
      },
      "execution_count": 40,
      "outputs": []
    },
    {
      "cell_type": "markdown",
      "metadata": {
        "id": "92d53320"
      },
      "source": [
        "---\n",
        "7. Количество уникальных чисел в листе. Нужно использовать множества (`set`)"
      ]
    },
    {
      "cell_type": "code",
      "source": [
        "# функция number_unique_elements принимает на вход лист\n",
        "# на выходе одно число -- количество уникальных элементов\n",
        "def number_unique_elements(array):\n",
        "  unique = set(array)\n",
        "  return len(unique)\n",
        "\n",
        "assert number_unique_elements([1, 2, 3]) == 3\n",
        "assert number_unique_elements([1, 2, 1]) == 2\n",
        "assert number_unique_elements([1, 1, 1, 1]) == 1\n",
        "assert number_unique_elements([1, 2, 1, 2]) == 2"
      ],
      "metadata": {
        "id": "oUZmv8bybtat"
      },
      "execution_count": 41,
      "outputs": []
    },
    {
      "cell_type": "markdown",
      "source": [
        "# 3. Классы"
      ],
      "metadata": {
        "id": "28y7an1AbvQi"
      }
    },
    {
      "cell_type": "markdown",
      "source": [
        "Напишите класс Vehicle с двумя атрибутами -- максимальная скорость (max_speed) и пробег (mileage)  \n",
        "Необходимо реализовать только метод-конструктор `__init__`"
      ],
      "metadata": {
        "id": "jI8D_Cbab_GC"
      }
    },
    {
      "cell_type": "code",
      "source": [
        "class Vehicle:\n",
        "    def __init__(self, max_speed, mileage):\n",
        "      self.max_speed = max_speed\n",
        "      self.mileage = mileage\n",
        "\n",
        "\n",
        "veh1 = Vehicle(100, 50)\n",
        "assert (veh1.max_speed, veh1.mileage) == (100, 50)\n",
        "\n",
        "veh2 = Vehicle(200, 3)\n",
        "assert (veh2.max_speed, veh2.mileage) == (200, 3)"
      ],
      "metadata": {
        "id": "SzU9K2elcBSV"
      },
      "execution_count": 42,
      "outputs": []
    },
    {
      "cell_type": "markdown",
      "metadata": {
        "id": "372f9a40"
      },
      "source": [
        "Напишите класс Truck, который наследуется от Vehicle  \n",
        "P.S. Наследование возможно при помощи конструкции class Subclass(MotherClass):"
      ]
    },
    {
      "cell_type": "code",
      "execution_count": 43,
      "metadata": {
        "id": "3f9d8321"
      },
      "outputs": [],
      "source": [
        "class Truck(Vehicle):\n",
        "    # TODO\n",
        "    pass\n",
        "\n",
        "\n",
        "truck1 = Truck(50, 1000)\n",
        "assert (truck1.max_speed, truck1.mileage) == (50, 1000)\n",
        "\n",
        "truck2 = Truck(43, 235)\n",
        "assert (truck2.max_speed, truck2.mileage) == (43, 235)"
      ]
    },
    {
      "cell_type": "markdown",
      "metadata": {
        "id": "2b232225"
      },
      "source": [
        "Напишите класс MyList с функционалом, как описано ниже"
      ]
    },
    {
      "cell_type": "code",
      "execution_count": 44,
      "metadata": {
        "id": "b9a4db60"
      },
      "outputs": [],
      "source": [
        "class MyList:\n",
        "    def __init__(self, array):\n",
        "        self.array = array\n",
        "\n",
        "    def return_sum(self):\n",
        "        \"\"\"\n",
        "        Возвращает сумму всех элементов сохраненного листа.\n",
        "        Пользоваться sum нельзя!\n",
        "        \"\"\"\n",
        "        a = 0\n",
        "        for x in self.array:\n",
        "          a += x\n",
        "        return a\n",
        "\n",
        "    def make_reverse(self):\n",
        "        \"\"\"\n",
        "        Разворачивает сохраненный лист.\n",
        "        \"\"\"\n",
        "        new_array = []\n",
        "        for i in range(len(self.array) - 1, 0 - 1, -1):\n",
        "          new_array.append(self.array[i])\n",
        "        return new_array\n",
        "\n",
        "    def make_slice(self, start, stop):\n",
        "        \"\"\"\n",
        "        Делает слайсинг сохраненного листа.\n",
        "        \"\"\"\n",
        "        return self.array[start:stop]\n",
        "\n",
        "\n",
        "a = MyList([1, 2, 3, 4])\n",
        "assert a.return_sum() == 10\n",
        "assert a.make_reverse() == [4, 3, 2, 1]\n",
        "assert a.make_slice(0, 2) == [1, 2]\n",
        "\n",
        "b = MyList([5, 6, 6, 5])\n",
        "assert b.return_sum() == 22\n",
        "assert b.make_reverse() == [5, 6, 6, 5]\n",
        "assert b.make_slice(1, 2) == [6]"
      ]
    }
  ]
}